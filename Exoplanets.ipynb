{
 "cells": [
  {
   "cell_type": "code",
   "execution_count": 1,
   "metadata": {},
   "outputs": [],
   "source": [
    "import pandas as pd\n",
    "import numpy as np\n",
    "p = pd.read_csv('C:\\\\Users\\\\arthu\\\\Anaconda3\\\\Kepler\\\\exoTrain.csv')\n",
    "test = pd.read_csv('C:\\\\Users\\\\arthu\\\\Anaconda3\\\\Kepler\\\\exoTest.csv')"
   ]
  },
  {
   "cell_type": "code",
   "execution_count": 2,
   "metadata": {},
   "outputs": [],
   "source": [
    "#1 = Exoplanet star, 0 = non-exoplanet star\n",
    "p['LABEL'] = p['LABEL'] - 1 \n",
    "test['LABEL'] = test['LABEL'] - 1\n",
    "\n",
    "labels = p['LABEL']\n",
    "tLabels = test['LABEL']\n",
    "\n",
    "yTest = np.transpose(np.asmatrix(tLabels))\n",
    "Y = np.transpose(np.asmatrix(labels))\n",
    "\n",
    "testFlux = test.iloc[:, 1:3198]\n",
    "\n",
    "flux = p.iloc[:, 1:3198]\n",
    "flux = np.divide(flux, np.asmatrix(np.amax(np.absolute(flux))))\n",
    "m = np.shape(flux)[0]"
   ]
  },
  {
   "cell_type": "code",
   "execution_count": 3,
   "metadata": {},
   "outputs": [],
   "source": [
    "def initialize_parameters(shape):\n",
    "    \n",
    "    W = np.random.randn(shape[1], 1)\n",
    "    b = 0\n",
    "    parameters = {'W': W, 'b': b}\n",
    "    return parameters"
   ]
  },
  {
   "cell_type": "code",
   "execution_count": 4,
   "metadata": {},
   "outputs": [],
   "source": [
    "def sigmoid(z):\n",
    "    return 1 / (1 + np.exp(-z))"
   ]
  },
  {
   "cell_type": "code",
   "execution_count": 5,
   "metadata": {},
   "outputs": [],
   "source": [
    "def propagation(flux, Y, parameters, lambd):\n",
    "    \n",
    "    #forward propogation\n",
    "    A = sigmoid(np.matmul(flux, parameters['W']) + parameters['b'])\n",
    "    cost = (-1 / m) * np.nansum(np.multiply(Y, np.log(A)) + np.multiply((1 - Y), np.log(1 - A))) + (lambd / m) * np.sum(np.square(parameters['W']))\n",
    "    \n",
    "    #backward propogation\n",
    "    dw = (1 / m) * np.matmul(np.transpose(flux), A - Y)\n",
    "    db = (1 / m) * np.sum(A - Y)\n",
    "    data = {'dw' : dw, 'db' : db, 'cost' : cost}\n",
    "    \n",
    "    return data"
   ]
  },
  {
   "cell_type": "code",
   "execution_count": 6,
   "metadata": {},
   "outputs": [],
   "source": [
    "def optimize(flux, Y, parameters, iterations, learning_rate, lambd):\n",
    "    \n",
    "    \n",
    "    for i in range(iterations):\n",
    "        \n",
    "        data = propagation(flux, Y, parameters, lambd)\n",
    "        \n",
    "        dw = data['dw']\n",
    "        db = data['db']\n",
    "        cost = data['cost']\n",
    "        \n",
    "        parameters['W'] = parameters['W'] - learning_rate * dw\n",
    "        parameters['b'] = parameters['b'] - learning_rate * db\n",
    "        \n",
    "        if i % 100 == 0:\n",
    "            print(cost)\n",
    "            \n",
    "        \n",
    "    return parameters"
   ]
  },
  {
   "cell_type": "code",
   "execution_count": 7,
   "metadata": {},
   "outputs": [],
   "source": [
    "def predict(parameters, flux):\n",
    "    \n",
    "    return sigmoid(np.matmul(flux, parameters['W']) + parameters['b'])"
   ]
  },
  {
   "cell_type": "code",
   "execution_count": 8,
   "metadata": {},
   "outputs": [],
   "source": [
    "parameters = initialize_parameters(np.shape(flux))"
   ]
  },
  {
   "cell_type": "code",
   "execution_count": 9,
   "metadata": {},
   "outputs": [
    {
     "name": "stderr",
     "output_type": "stream",
     "text": [
      "C:\\Users\\arthu\\Anaconda3\\lib\\site-packages\\ipykernel_launcher.py:5: RuntimeWarning: divide by zero encountered in log\n",
      "  \"\"\"\n"
     ]
    },
    {
     "name": "stdout",
     "output_type": "stream",
     "text": [
      "inf\n",
      "inf\n",
      "inf\n",
      "6.492855571923466\n",
      "6.482653659495689\n",
      "6.475171366553971\n",
      "6.470178479919255\n",
      "6.466309631821554\n",
      "6.463184155502917\n",
      "6.461409649678236\n",
      "train accuracy: 98.5627697465447 %\n",
      "test accuracy: 48.76904763271758 %\n"
     ]
    }
   ],
   "source": [
    "parameters = optimize(flux, Y, parameters, 1000, .5, 10)\n",
    "print(\"train accuracy: {} %\".format(100 - np.mean(np.abs(predict(parameters, flux) - Y)) * 100))\n",
    "print(\"test accuracy: {} %\".format(100 - np.mean(np.abs(predict(parameters, testFlux) - yTest)) * 100))"
   ]
  },
  {
   "cell_type": "code",
   "execution_count": null,
   "metadata": {},
   "outputs": [],
   "source": []
  }
 ],
 "metadata": {
  "kernelspec": {
   "display_name": "Python 3",
   "language": "python",
   "name": "python3"
  },
  "language_info": {
   "codemirror_mode": {
    "name": "ipython",
    "version": 3
   },
   "file_extension": ".py",
   "mimetype": "text/x-python",
   "name": "python",
   "nbconvert_exporter": "python",
   "pygments_lexer": "ipython3",
   "version": "3.7.0"
  }
 },
 "nbformat": 4,
 "nbformat_minor": 2
}
