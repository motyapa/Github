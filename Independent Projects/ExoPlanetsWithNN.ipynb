{
 "cells": [
  {
   "cell_type": "code",
   "execution_count": 1,
   "metadata": {},
   "outputs": [],
   "source": [
    "import pandas as pd\n",
    "import numpy as np\n",
    "p = pd.read_csv('C:\\\\Users\\\\arthu\\\\Anaconda3\\\\Kepler\\\\exoTrain.csv')\n",
    "test = pd.read_csv('C:\\\\Users\\\\arthu\\\\Anaconda3\\\\Kepler\\\\exoTest.csv')"
   ]
  },
  {
   "cell_type": "code",
   "execution_count": 2,
   "metadata": {},
   "outputs": [],
   "source": [
    "#1 = Exoplanet star, 0 = non-exoplanet star\n",
    "p['LABEL'] = p['LABEL'] - 1 \n",
    "test['LABEL'] = test['LABEL'] - 1\n",
    "\n",
    "labels = p['LABEL']\n",
    "tLabels = test['LABEL']\n",
    "\n",
    "yTest = np.transpose(np.asmatrix(tLabels))\n",
    "Y = np.transpose(np.asmatrix(labels))\n",
    "\n",
    "testFlux = test.iloc[:, 1:3198]\n",
    "\n",
    "flux = p.iloc[:, 1:3198]\n",
    "flux = np.divide(flux, np.asmatrix(np.amax(np.absolute(flux))))\n",
    "size = np.shape(flux)[0]"
   ]
  },
  {
   "cell_type": "code",
   "execution_count": 3,
   "metadata": {},
   "outputs": [],
   "source": [
    "def layer_size(inputs, hidden, labels):\n",
    "    n_x = inputs.shape[1]\n",
    "    n_h = hidden\n",
    "    n_y = labels.shape[1]\n",
    "    \n",
    "    return (n_x, n_h, n_y)"
   ]
  },
  {
   "cell_type": "code",
   "execution_count": 4,
   "metadata": {},
   "outputs": [],
   "source": [
    "def initialize_parameters(n_x, n_h, n_y):\n",
    "    \n",
    "    W1 = np.random.randn(n_h, n_x)\n",
    "    b1 = np.zeros((n_h, 1))\n",
    "    W2 = np.random.randn(n_y, n_h)\n",
    "    b2 = np.zeros((n_y, 1))\n",
    "    \n",
    "    parameters = {'W1' : W1, 'W2' : W2, 'b1' : b1, 'b2' : b2}\n",
    "    return parameters"
   ]
  },
  {
   "cell_type": "code",
   "execution_count": 5,
   "metadata": {},
   "outputs": [],
   "source": [
    "def sigmoid(z):\n",
    "    return 1 / (1 + np.exp(-z))"
   ]
  },
  {
   "cell_type": "code",
   "execution_count": 6,
   "metadata": {},
   "outputs": [],
   "source": [
    "def forward_propagation(inputs, parameters):\n",
    "    \n",
    "    W1 = parameters['W1']\n",
    "    W2 = parameters['W2']\n",
    "    b1 = parameters['b1']\n",
    "    b2 = parameters['b2']\n",
    "    \n",
    "    Z1 = np.matmul(W1, inputs.T) + b1\n",
    "    A1 = np.tanh(Z1)\n",
    "    Z2 = np.matmul(W2, A1) + b2\n",
    "    A2 = sigmoid(Z2)\n",
    "    \n",
    "    mem = {'A1' : A1, 'Z1' : Z1, 'A2' : A2, 'Z2' : Z2}\n",
    "    return mem"
   ]
  },
  {
   "cell_type": "code",
   "execution_count": 7,
   "metadata": {},
   "outputs": [],
   "source": [
    "def compute_cost(A2, Y, parameters, lambd):\n",
    "    \n",
    "    W1 = parameters['W1']\n",
    "    W2 = parameters['W2']\n",
    "    \n",
    "    cost = (- 1 / size) * np.sum(np.multiply(np.log(A2), Y.T) + np.multiply(np.log(1-A2), 1 - Y.T))\n",
    "    cost = cost + (lambd / (2 * size)) * (np.sum(np.square(W1)) + np.sum(np.square(W2)))\n",
    "    \n",
    "    return cost"
   ]
  },
  {
   "cell_type": "code",
   "execution_count": 8,
   "metadata": {},
   "outputs": [],
   "source": [
    "def backward_propagation(parameters, cache, X, Y, lambd):\n",
    "    \n",
    "    W1 = parameters['W1']\n",
    "    W2 = parameters['W2']\n",
    "    A1 = cache['A1']\n",
    "    A2 = cache['A2']\n",
    "    \n",
    "    dZ2 = A2 - Y.T\n",
    "    dW2 = (1 / size)  * np.matmul(dZ2, A1.T) + (lambd / size) * W2\n",
    "    db2 = (1 / size) * np.sum(dZ2, axis = 1)\n",
    "    dZ1 = np.multiply((1 - np.power(A1, 2)), np.matmul(W2.T, dZ2))\n",
    "    dW1 = (1 / size) * np.matmul(dZ1, X) + (lambd / size) * W1\n",
    "    db1 = (1 / size) * np.sum(dZ1, axis = 1)\n",
    "    \n",
    "    grads = {\"dW1\": dW1, \"db1\": db1, \"dW2\": dW2, \"db2\": db2}\n",
    "    \n",
    "    return grads"
   ]
  },
  {
   "cell_type": "code",
   "execution_count": 9,
   "metadata": {},
   "outputs": [],
   "source": [
    "def update_parameters(parameters, grads, rate):\n",
    "    \n",
    "    W1 = parameters[\"W1\"]\n",
    "    b1 = parameters[\"b1\"]\n",
    "    W2 = parameters[\"W2\"]\n",
    "    b2 = parameters[\"b2\"]\n",
    "    \n",
    "    dW1 = grads[\"dW1\"]\n",
    "    db1 = grads[\"db1\"]\n",
    "    dW2 = grads[\"dW2\"]\n",
    "    db2 = grads[\"db2\"]\n",
    "    \n",
    "    W1 = W1 - rate * dW1\n",
    "    b1 = b1 - rate * db1\n",
    "    W2 = W2 - rate * dW2\n",
    "    b2 = b2 - rate * db2\n",
    "    \n",
    "    parameters = {\"W1\": W1, \"b1\": b1, \"W2\": W2, \"b2\": b2}\n",
    "    \n",
    "    return parameters"
   ]
  },
  {
   "cell_type": "code",
   "execution_count": 10,
   "metadata": {},
   "outputs": [],
   "source": [
    "def nn(X, Y, n_h, iterations, rate, lambd):\n",
    "    \n",
    "    layersize = layer_size(X, n_h, Y)\n",
    "    \n",
    "    parameters = initialize_parameters(layersize[0], n_h, layersize[2])\n",
    "    \n",
    "    for i in range(0, iterations):\n",
    "        m = forward_propagation(X, parameters)\n",
    "        cost = compute_cost(m['A2'], Y, parameters, lambd)\n",
    "        g = backward_propagation(parameters, m, X, Y, lambd)\n",
    "        parameters = update_parameters(parameters, g, rate)\n",
    "        \n",
    "        if i % 100 == 0:\n",
    "            print (\"Cost after iteration %i: %f\" %(i, cost))\n",
    "            \n",
    "    return parameters"
   ]
  },
  {
   "cell_type": "code",
   "execution_count": 11,
   "metadata": {},
   "outputs": [],
   "source": [
    "def predict(parameters, X):\n",
    "    a = forward_propagation(X, parameters)\n",
    "    predict = np.round(a['A2'])\n",
    "    return predict"
   ]
  },
  {
   "cell_type": "code",
   "execution_count": 18,
   "metadata": {},
   "outputs": [
    {
     "name": "stdout",
     "output_type": "stream",
     "text": [
      "Cost after iteration 0: 22.477736\n",
      "Cost after iteration 100: 14.740555\n",
      "Cost after iteration 200: 9.959040\n",
      "Cost after iteration 300: 6.733401\n",
      "Cost after iteration 400: 4.557240\n",
      "Cost after iteration 500: 3.089059\n",
      "Cost after iteration 600: 2.098506\n",
      "Cost after iteration 700: 1.430188\n",
      "Cost after iteration 800: 0.979267\n",
      "Cost after iteration 900: 0.675015\n",
      "train accuracy: 99.27265578926676 %\n",
      "test accuracy: 99.12280701754386 %\n"
     ]
    }
   ],
   "source": [
    "parameters = nn(flux, Y, 7, 1000, 1, 10)\n",
    "predictions = predict(parameters, flux)\n",
    "print(\"train accuracy: {} %\".format(100 - np.mean(np.abs(predict(parameters, flux) - Y)) * 100))\n",
    "print(\"test accuracy: {} %\".format(100 - np.mean(np.abs(predict(parameters, testFlux) - yTest)) * 100))"
   ]
  },
  {
   "cell_type": "code",
   "execution_count": null,
   "metadata": {},
   "outputs": [],
   "source": []
  }
 ],
 "metadata": {
  "kernelspec": {
   "display_name": "Python 3",
   "language": "python",
   "name": "python3"
  },
  "language_info": {
   "codemirror_mode": {
    "name": "ipython",
    "version": 3
   },
   "file_extension": ".py",
   "mimetype": "text/x-python",
   "name": "python",
   "nbconvert_exporter": "python",
   "pygments_lexer": "ipython3",
   "version": "3.7.0"
  }
 },
 "nbformat": 4,
 "nbformat_minor": 2
}
